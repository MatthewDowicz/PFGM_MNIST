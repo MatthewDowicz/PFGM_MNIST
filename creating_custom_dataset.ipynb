{
 "cells": [
  {
   "cell_type": "code",
   "execution_count": 1,
   "id": "bec1c406-4eec-4529-9685-086e94aef95e",
   "metadata": {},
   "outputs": [],
   "source": [
    "# Basic Imports\n",
    "import pathlib\n",
    "from pathlib import Path\n",
    "import os\n",
    "import sys\n",
    "from typing import Any, Sequence, Optional, Tuple, Iterator, Dict, Callable, Union\n",
    "import json\n",
    "import time\n",
    "from tqdm.auto import tqdm\n",
    "import numpy as np\n",
    "from copy import copy\n",
    "from glob import glob\n",
    "from collections import defaultdict\n",
    "import matplotlib.pyplot as plt\n",
    "\n",
    "# Changing fonts to be latex typesetting\n",
    "from matplotlib import rcParams\n",
    "rcParams['mathtext.fontset'] = 'dejavuserif'\n",
    "rcParams['font.family'] = 'serif'\n",
    "\n",
    "# JAX/Flax\n",
    "import jax\n",
    "from jax import jit\n",
    "import jax.numpy as jnp\n",
    "from jax import random\n",
    "\n",
    "# PyTorch for Dataloaders\n",
    "import torch\n",
    "import torch.utils.data as data\n",
    "from torch.utils.data import TensorDataset, DataLoader, Dataset\n",
    "from torchvision.datasets import MNIST, CIFAR10\n",
    "from torchvision import transforms\n",
    "\n",
    "# Import created functions\n",
    "import make_dataset as mkds\n",
    "import visualization as vis\n",
    "\n",
    "from numpy.random import default_rng\n",
    "key = random.PRNGKey(42)\n",
    "rng = default_rng(np.asarray(key))"
   ]
  },
  {
   "cell_type": "markdown",
   "id": "98423cdd-d279-4a71-9557-0d0df7c32d09",
   "metadata": {},
   "source": [
    "# **Goal of this Notebook**: Perturb MNIST dataset and put it into a dataloader\n",
    "\n",
    "TODO:\n",
    "- Create custom dataset that perturbs the pytorch dataset and outputs the perturbed MNIST images with the Empirical field"
   ]
  },
  {
   "cell_type": "markdown",
   "id": "20804a8e-50cc-4c3c-8c1f-a38692c63d0f",
   "metadata": {},
   "source": [
    "**NOTE:** The perturbation hyperparameters have to larger than usual when running the `process_perturbed_data` function.\n",
    "\n",
    "- Further testing needs to be done to figure out why, but as of right now, I'll continue on and come back to this once the model is working."
   ]
  },
  {
   "cell_type": "code",
   "execution_count": 2,
   "id": "7d6379d9-fd0b-4446-a557-c3abca2ddd51",
   "metadata": {},
   "outputs": [],
   "source": [
    "turb_training, turb_test = mkds.create_perturbed_dataset(download=False)"
   ]
  },
  {
   "cell_type": "code",
   "execution_count": 3,
   "id": "d72e0450-1ccb-4fbe-b871-4bbc990a7d39",
   "metadata": {},
   "outputs": [],
   "source": [
    "# perturbed_training = mkds.load_data(data_dir='/pscratch/sd/m/mdowicz/PFGM_MNIST/saved_data/MNIST/perturbed/',\n",
    "#                                      data_file='perturbed_training.pkl')\n",
    "\n",
    "# perturbed_test = mkds.load_data(data_dir='/pscratch/sd/m/mdowicz/PFGM_MNIST/saved_data/MNIST/perturbed/',\n",
    "#                                      data_file='perturbed_test.pkl')"
   ]
  },
  {
   "cell_type": "code",
   "execution_count": 4,
   "id": "2b7fdb26-1318-4984-a3c9-5c7316c752c4",
   "metadata": {},
   "outputs": [],
   "source": [
    "train, val, test = mkds.partition_MNIST(download=False)"
   ]
  },
  {
   "cell_type": "code",
   "execution_count": 5,
   "id": "dda9099d-581d-4d12-bbf7-bc9220d546e7",
   "metadata": {},
   "outputs": [],
   "source": [
    "# perturbed_training = mkds.load_data(data_dir='/pscratch/sd/m/mdowicz/PFGM_MNIST/saved_data/MNIST/perturbed/partitioned',\n",
    "#                                      data_file='partitioned_training_set.pkl')\n",
    "\n",
    "# perturbed_test = mkds.load_data(data_dir='/pscratch/sd/m/mdowicz/PFGM_MNIST/saved_data/MNIST/perturbed/partitioned',\n",
    "#                                      data_file='partitioned_val_set.pkl')\n",
    "\n",
    "# perturbed_test = mkds.load_data(data_dir='/pscratch/sd/m/mdowicz/PFGM_MNIST/saved_data/MNIST/perturbed/partitioned',\n",
    "#                                      data_file='partitioned_test_set.pkl')"
   ]
  },
  {
   "cell_type": "code",
   "execution_count": 6,
   "id": "bca028cb-ee19-4308-b9bb-63012cb6bef4",
   "metadata": {},
   "outputs": [
    {
     "data": {
      "text/plain": [
       "(array([[ 2.9594457e+04,  3.0179191e+04,  8.7360898e+04, ...,\n",
       "         -3.7994027e+04,  3.9512625e+04,  3.6402961e+04],\n",
       "        [-1.4059526e+01, -5.6157249e+01, -1.5860073e+01, ...,\n",
       "         -3.3219299e+01,  9.5528245e-01,  2.9137549e+00],\n",
       "        [-3.0235529e-02,  2.0162916e-01, -1.2602958e-01, ...,\n",
       "         -4.6595004e-01, -1.3841748e-01,  4.7488004e-02],\n",
       "        ...,\n",
       "        [-1.5022976e+01,  3.8047273e+00,  1.3766521e+01, ...,\n",
       "          4.1629248e+00,  2.8523464e+00,  1.0300952e+01],\n",
       "        [-3.5767760e+00, -3.0446305e+00, -3.5145929e+00, ...,\n",
       "         -1.2841077e-01,  2.2135780e+00,  1.9064258e+00],\n",
       "        [ 2.3253174e+07, -1.1343905e+08,  1.3110527e+08, ...,\n",
       "          2.3191926e+08, -2.4705858e+07,  4.0102307e+08]], dtype=float32),\n",
       " array([[-0.29568702, -0.3015293 , -0.8728488 , ...,  0.37960964,\n",
       "         -0.3947824 , -0.36371282],\n",
       "        [ 0.8431644 ,  3.3678083 ,  0.95114505, ...,  1.992196  ,\n",
       "         -0.05728928, -0.17474091],\n",
       "        [ 0.14380585, -0.9589861 ,  0.5994203 , ...,  2.2161458 ,\n",
       "          0.65833956, -0.22586186],\n",
       "        ...,\n",
       "        [ 0.8169552 , -0.20690253, -0.74862874, ..., -0.22638145,\n",
       "         -0.1551117 , -0.56016976],\n",
       "        [ 1.5271207 ,  1.2999188 ,  1.5005714 , ...,  0.05482557,\n",
       "         -0.94509727, -0.81395715],\n",
       "        [-0.08403337,  0.40995124, -0.47379416, ..., -0.8381203 ,\n",
       "          0.08928315, -1.449235  ]], dtype=float32))"
      ]
     },
     "execution_count": 6,
     "metadata": {},
     "output_type": "execute_result"
    }
   ],
   "source": [
    "train_dl, val_dl, test_dl = mkds.load_dataloaders(batch_size=128)\n",
    "train_batch = next(iter(train_dl))\n",
    "train_batch"
   ]
  }
 ],
 "metadata": {
  "kernelspec": {
   "display_name": "PFGM",
   "language": "python",
   "name": "jax_pfgm"
  },
  "language_info": {
   "codemirror_mode": {
    "name": "ipython",
    "version": 3
   },
   "file_extension": ".py",
   "mimetype": "text/x-python",
   "name": "python",
   "nbconvert_exporter": "python",
   "pygments_lexer": "ipython3",
   "version": "3.9.15"
  }
 },
 "nbformat": 4,
 "nbformat_minor": 5
}
