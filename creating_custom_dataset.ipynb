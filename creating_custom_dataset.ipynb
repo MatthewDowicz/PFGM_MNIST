{
 "cells": [
  {
   "cell_type": "code",
   "execution_count": 1,
   "id": "bec1c406-4eec-4529-9685-086e94aef95e",
   "metadata": {},
   "outputs": [],
   "source": [
    "# Basic Imports\n",
    "import pathlib\n",
    "from pathlib import Path\n",
    "import os\n",
    "import sys\n",
    "from typing import Any, Sequence, Optional, Tuple, Iterator, Dict, Callable, Union\n",
    "import json\n",
    "import time\n",
    "from tqdm.auto import tqdm\n",
    "import numpy as np\n",
    "from copy import copy\n",
    "from glob import glob\n",
    "from collections import defaultdict\n",
    "import matplotlib.pyplot as plt\n",
    "\n",
    "# Changing fonts to be latex typesetting\n",
    "from matplotlib import rcParams\n",
    "rcParams['mathtext.fontset'] = 'dejavuserif'\n",
    "rcParams['font.family'] = 'serif'\n",
    "\n",
    "# JAX/Flax\n",
    "import jax\n",
    "from jax import jit\n",
    "import jax.numpy as jnp\n",
    "from jax import random\n",
    "\n",
    "# PyTorch for Dataloaders\n",
    "import torch\n",
    "import torch.utils.data as data\n",
    "from torch.utils.data import TensorDataset, DataLoader, Dataset\n",
    "from torchvision.datasets import MNIST, CIFAR10\n",
    "from torchvision import transforms\n",
    "\n",
    "# Import created functions\n",
    "import make_dataset as mkds\n",
    "import visualization as vis\n",
    "\n",
    "from numpy.random import default_rng\n",
    "key = random.PRNGKey(42)\n",
    "rng = default_rng(np.asarray(key))"
   ]
  },
  {
   "cell_type": "markdown",
   "id": "98423cdd-d279-4a71-9557-0d0df7c32d09",
   "metadata": {},
   "source": [
    "# **Goal of this Notebook**: Perturb MNIST dataset and put it into a dataloader\n",
    "\n",
    "TODO:\n",
    "- Create custom dataset that perturbs the pytorch dataset and outputs the perturbed MNIST images with the Empirical field"
   ]
  },
  {
   "cell_type": "markdown",
   "id": "20804a8e-50cc-4c3c-8c1f-a38692c63d0f",
   "metadata": {},
   "source": [
    "**NOTE:** The perturbation hyperparameters have to larger than usual when running the `process_perturbed_data` function.\n",
    "\n",
    "- Further testing needs to be done to figure out why, but as of right now, I'll continue on and come back to this once the model is working."
   ]
  },
  {
   "cell_type": "code",
   "execution_count": 7,
   "id": "7d6379d9-fd0b-4446-a557-c3abca2ddd51",
   "metadata": {},
   "outputs": [],
   "source": [
    "turb_training, turb_test = mkds.create_perturbed_dataset()"
   ]
  },
  {
   "cell_type": "code",
   "execution_count": 8,
   "id": "d72e0450-1ccb-4fbe-b871-4bbc990a7d39",
   "metadata": {},
   "outputs": [],
   "source": [
    "perturbed_training = mkds.load_data(data_dir='/pscratch/sd/m/mdowicz/PFGM_MNIST/saved_data/MNIST/perturbed/',\n",
    "                                     data_file='perturbed_training.pkl')\n",
    "\n",
    "perturbed_test = mkds.load_data(data_dir='/pscratch/sd/m/mdowicz/PFGM_MNIST/saved_data/MNIST/perturbed/',\n",
    "                                     data_file='perturbed_test.pkl')\n",
    "\n"
   ]
  },
  {
   "cell_type": "code",
   "execution_count": 9,
   "id": "b347738c-ff05-4a6d-b7b8-f2f8f563f86e",
   "metadata": {},
   "outputs": [],
   "source": [
    "dataset = mkds.PerturbMNIST(perturbed_training[0], perturbed_training[1])\n",
    "dataloader = mkds.get_dataloader(dataset, batch_size=32, shuffle=True)"
   ]
  },
  {
   "cell_type": "code",
   "execution_count": 10,
   "id": "5f2cbb34-9e9f-4eda-81db-c69254d9c166",
   "metadata": {},
   "outputs": [],
   "source": [
    "batch = next(iter(dataloader))"
   ]
  }
 ],
 "metadata": {
  "kernelspec": {
   "display_name": "PFGM",
   "language": "python",
   "name": "jax_pfgm"
  },
  "language_info": {
   "codemirror_mode": {
    "name": "ipython",
    "version": 3
   },
   "file_extension": ".py",
   "mimetype": "text/x-python",
   "name": "python",
   "nbconvert_exporter": "python",
   "pygments_lexer": "ipython3",
   "version": "3.9.15"
  }
 },
 "nbformat": 4,
 "nbformat_minor": 5
}
