{
 "cells": [
  {
   "cell_type": "code",
   "execution_count": 1,
   "id": "9518038b-6f13-430d-bd61-3acff13c49d8",
   "metadata": {},
   "outputs": [
    {
     "name": "stderr",
     "output_type": "stream",
     "text": [
      "/global/homes/m/mdowicz/.conda/envs/jax_pfgm/lib/python3.10/site-packages/flax/core/frozen_dict.py:169: FutureWarning: jax.tree_util.register_keypaths is deprecated, and will be removed in a future release. Please use `register_pytree_with_keys()` instead.\n",
      "  jax.tree_util.register_keypaths(\n",
      "WARNING:absl:Tensorflow library not found, tensorflow.io.gfile operations will use native shim calls. GCS paths (i.e. 'gs://...') cannot be accessed.\n",
      "ERROR:wandb.jupyter:Failed to detect the name of this notebook, you can set it manually with the WANDB_NOTEBOOK_NAME environment variable to enable code saving.\n",
      "\u001b[34m\u001b[1mwandb\u001b[0m: Currently logged in as: \u001b[33mmdowicz\u001b[0m. Use \u001b[1m`wandb login --relogin`\u001b[0m to force relogin\n"
     ]
    }
   ],
   "source": [
    "# Basic Imports\n",
    "from pathlib import Path\n",
    "import os\n",
    "import sys\n",
    "from typing import Any, Sequence, Optional, Tuple, Iterator, Dict, Callable, Union\n",
    "import json\n",
    "import time\n",
    "import numpy as np\n",
    "from copy import copy\n",
    "from glob import glob\n",
    "from collections import defaultdict\n",
    "import matplotlib.pyplot as plt\n",
    "\n",
    "# Changing fonts to be latex typesetting\n",
    "from matplotlib import rcParams\n",
    "rcParams['mathtext.fontset'] = 'dejavuserif'\n",
    "rcParams['font.family'] = 'serif'\n",
    "from tqdm.auto import tqdm\n",
    "\n",
    "# JAX/Flax\n",
    "import jax\n",
    "import jax.numpy as jnp\n",
    "from jax import random\n",
    "# jax.config.update('jax_platform_name', 'cpu')\n",
    "\n",
    "import flax\n",
    "from flax import linen as nn\n",
    "from flax.training import train_state, checkpoints\n",
    "from flax.serialization import (\n",
    "    to_state_dict, msgpack_serialize, from_bytes\n",
    ")\n",
    "import optax\n",
    "\n",
    "# For ODESolver\n",
    "from scipy import integrate\n",
    "\n",
    "# PyTorch for Dataloaders\n",
    "import torch\n",
    "import torch.utils.data as data\n",
    "from torch.utils.data import TensorDataset, DataLoader, Dataset\n",
    "from torchvision.datasets import MNIST, CIFAR10\n",
    "from torchvision import transforms\n",
    "\n",
    "# Wandb \n",
    "import wandb\n",
    "wandb.login()\n",
    "import pprint\n",
    "\n",
    "# Import created functions\n",
    "import make_dataset as mkds\n",
    "import visualization as vis\n",
    "import flax_trn_loop as trn\n",
    "# import NN_model as nnm\n",
    "# import observable_data as od\n",
    "\n",
    "\n",
    "from numpy.random import default_rng\n",
    "prng = jax.random.PRNGKey(42)\n",
    "rng = default_rng(seed=np.asarray(prng))"
   ]
  },
  {
   "cell_type": "markdown",
   "id": "1c361fe9-d40d-44dc-9730-01b59ef41eb4",
   "metadata": {
    "tags": []
   },
   "source": [
    "# 0. Model Pipeline"
   ]
  },
  {
   "cell_type": "code",
   "execution_count": 2,
   "id": "b8738285-0115-4187-ab9e-a4950fd9f639",
   "metadata": {},
   "outputs": [],
   "source": [
    "# Create the model\n",
    "class MLP(nn.Module):\n",
    "    \"\"\"\n",
    "    Simple MLP model for testing PFGM.\n",
    "\n",
    "    Due to it's simplicity we use @nn.compact instead of setup\n",
    "    \"\"\"\n",
    "    hidden_dims: Sequence[int]\n",
    "    output_dim: int\n",
    "\n",
    "    @nn.compact\n",
    "    def __call__(self, x, **kwargs):\n",
    "        for dim in self.hidden_dims:\n",
    "            x = nn.Dense(dim)(x)\n",
    "            x = nn.relu(x)\n",
    "        x = nn.Dense(self.output_dim)(x)\n",
    "        return x\n",
    "    \n",
    "def init_train_state(model: Any,\n",
    "                     random_key: Any,\n",
    "                     shape: tuple,\n",
    "                     learning_rate: int) -> train_state.TrainState:\n",
    "    \"\"\"\n",
    "    Function to initialize the TrainState dataclass, which represents\n",
    "    the entire training state, including step number, parameters, and \n",
    "    optimizer state. This is useful because we no longer need to\n",
    "    initialize the model again and again with new variables, we just \n",
    "    update the \"state\" of the mdoel and pass this as inputs to functions.\n",
    "\n",
    "    Args:\n",
    "    -----\n",
    "        model: nn.Module    \n",
    "            The model that we want to train.\n",
    "        random_key: jax.random.PRNGKey()\n",
    "            Used to trigger the initialization functions, which generate\n",
    "            the initial set of parameters that the model will use.\n",
    "        shape: tuple\n",
    "            Shape of the batch of data that will be input into the model.\n",
    "            This is used to trigger shape inference, which is where the model\n",
    "            figures out by itself what the correct size the weights should be\n",
    "            when they see the inputs.\n",
    "        learning_rate: int\n",
    "            How large of a step the optimizer should take.\n",
    "\n",
    "    Returns:\n",
    "    --------\n",
    "        train_state.TrainState:\n",
    "            A utility class for handling parameter and gradient updates. \n",
    "    \"\"\"\n",
    "    # Initialize the model\n",
    "    variables = model.init(random_key, jnp.ones(shape))\n",
    "\n",
    "    # Create the optimizer\n",
    "    optimizer = optax.adam(learning_rate) # TODO update this to be user defined\n",
    "\n",
    "    # Create a state\n",
    "    return train_state.TrainState.create(apply_fn=model.apply,\n",
    "                                         tx=optimizer,\n",
    "                                         params=variables['params'])\n",
    "\n",
    "def compute_metrics(*, pred, labels):\n",
    "    \"\"\"\n",
    "    Function that computes metrics that will be logged\n",
    "    during training\n",
    "    \"\"\"\n",
    "    # Calculate the MSE loss\n",
    "    loss = ((pred - labels) ** 2).mean()\n",
    "\n",
    "    # Calculate the R^2 score\n",
    "    residual = jnp.sum(jnp.square(labels - pred))\n",
    "    total = jnp.sum(jnp.square(labels - jnp.mean(labels)))\n",
    "    r2_score = 1 - (residual / total)\n",
    "\n",
    "    # Save these metrics into a dict\n",
    "    metrics = {\n",
    "        'loss': loss,\n",
    "        'r2': r2_score\n",
    "    }\n",
    "\n",
    "    return metrics\n",
    "\n",
    "\n",
    "def accumulate_metrics(metrics):\n",
    "    \"\"\"\n",
    "    Function that accumulates all the metrics for each batch and \n",
    "    accumulates/calculates the metrics for each epoch.\n",
    "    \"\"\"\n",
    "    metrics = jax.device_get(metrics)\n",
    "    return {\n",
    "        k: np.mean([metric[k] for metric in metrics])\n",
    "        for k in metrics[0]\n",
    "    }\n",
    "\n",
    "@jax.jit\n",
    "def train_step(state: train_state.TrainState,\n",
    "               batch: list):\n",
    "    \"\"\"\n",
    "    Function to run training on one batch of data.\n",
    "    \"\"\"\n",
    "    image, label = batch\n",
    "\n",
    "    def loss_fn(params: dict):\n",
    "        \"\"\"\n",
    "        Simple MSE loss as described in the PFGM paper.\n",
    "        \"\"\"\n",
    "        pred = state.apply_fn({'params': params}, image)\n",
    "        loss = ((pred - label) ** 2).mean()\n",
    "        return loss, pred\n",
    "\n",
    "    def r_squared(params):\n",
    "        \"\"\"\n",
    "        Function to calculate the coefficient of determination or \n",
    "        R^2, which quantifies how well the regression model fits \n",
    "        the observed data. Or more formally, it is a statistical\n",
    "        measure that represents the proportion of variance in the\n",
    "        dependent variable that is explained by the independent \n",
    "        variable(s) in a regression model. R^2 ranges from 0 to 1, \n",
    "        with a higher value indicating a better fit. \n",
    "\n",
    "        An R^2 of 0 means that the regression model does not explain\n",
    "        any of the variability in the dependent variable, while an\n",
    "        R^2 of 1 indicates that the regression model explains all of\n",
    "        the variability in the dependent model.\n",
    "        \"\"\"\n",
    "        pred = state.apply_fn({'params': params}, image)\n",
    "        residual = jnp.sum(jnp.square(label - pred))\n",
    "        total = jnp.sum(jnp.square(label - jnp.mean(label)))\n",
    "        r2_score = 1 - (residual / total)\n",
    "        return r2_score\n",
    "\n",
    "    gradient_fn = jax.value_and_grad(loss_fn, has_aux=True)\n",
    "    (_, pred), grads = gradient_fn(state.params)\n",
    "    state = state.apply_gradients(grads=grads)\n",
    "    metrics = compute_metrics(pred=pred, labels=label)\n",
    "    return state, metrics\n",
    "\n",
    "@jax.jit\n",
    "def eval_step(state, batch):\n",
    "    image, label = batch\n",
    "    pred = state.apply_fn({'params': state.params}, image)\n",
    "    return compute_metrics(pred=pred, labels=label)\n",
    "\n",
    "\n",
    "def save_checkpoint_wandb(ckpt_path, state, epoch):\n",
    "    with open(ckpt_path, \"wb\") as outfile:\n",
    "        outfile.write(msgpack_serialize(to_state_dict(state)))\n",
    "    artifact = wandb.Artifact(\n",
    "        f'{wandb.run.name}-checkpoint', type='dataset'\n",
    "    )\n",
    "    artifact.add_file(ckpt_path)\n",
    "    wandb.log_artifact(artifact, aliases=[\"latest\", f\"epoch_{epoch}\"])\n",
    "    \n",
    "def load_checkpoint_wandb(ckpt_file, state):\n",
    "    artifact = wandb.use_artifact(\n",
    "        f'{wandb.run.name}-checkpoint:latest'\n",
    "    )\n",
    "    artifact_dir = artifact.download()\n",
    "    ckpt_path = os.path.join(artifact_dir, ckpt_file)\n",
    "    with open(ckpt_path, \"rb\") as data_file:\n",
    "        byte_data = data_file.read()\n",
    "    return from_bytes(state, byte_data)"
   ]
  },
  {
   "cell_type": "markdown",
   "id": "5477cfa5-e07c-460f-9516-51a5062472a0",
   "metadata": {
    "tags": []
   },
   "source": [
    "# 1. Creating perturbed dataset"
   ]
  },
  {
   "cell_type": "code",
   "execution_count": 3,
   "id": "7e8881d9-2103-4170-a663-b12e808d9b94",
   "metadata": {},
   "outputs": [],
   "source": [
    "class MNIST_DS(Dataset):\n",
    "    \"\"\"\n",
    "    Simple dataset class that stores the data and targets as NumPy arrays.\n",
    "    \n",
    "    Args:\n",
    "    -----\n",
    "        data: np.ndarray\n",
    "            The perturbed input data.\n",
    "        targets: np.ndarray\n",
    "            The empirical field that generated the perturbed data.\n",
    "    \"\"\"\n",
    "    def __init__(self, data: np.ndarray, targets: np.ndarray):\n",
    "        self.data = data\n",
    "        self.targets = targets\n",
    "        \n",
    "    def __len__(self):\n",
    "        \"\"\"\n",
    "        Returns the total number of samples in the dataset.\n",
    "        \"\"\"\n",
    "        return len(self.targets)\n",
    "    \n",
    "    def __getitem__(self, idx: int):\n",
    "        \"\"\"\n",
    "        Returns the i-th sample and corresponding target in the dataset.\n",
    "        \n",
    "        Args:\n",
    "        -----\n",
    "            idx: int\n",
    "                The index of the sample to return.\n",
    "                \n",
    "        Returns:\n",
    "        --------\n",
    "            tuple: A tuple containing the sample and target.\n",
    "        \"\"\"\n",
    "        sample = self.data[idx]\n",
    "        target = self.targets[idx]\n",
    "        return sample, target\n",
    "    \n",
    "    \n",
    "def numpy_collate(batch):\n",
    "    if isinstance(batch[0], np.ndarray):\n",
    "        return np.stack(batch)\n",
    "    elif isinstance(batch[0], (tuple,list)):\n",
    "        transposed = zip(*batch)\n",
    "        return [numpy_collate(samples) for samples in transposed]\n",
    "    else:\n",
    "        return np.array(batch)\n",
    "\n",
    "def create_data_loaders(*datasets : Sequence[data.Dataset],\n",
    "                        train : Union[bool, Sequence[bool]] = True,\n",
    "                        batch_size : int = 128,\n",
    "                        num_workers : int = 4,\n",
    "                        seed : int = 42):\n",
    "    \"\"\"\n",
    "    Creates data loaders used in JAX for a set of datasets.\n",
    "\n",
    "    Args:\n",
    "      datasets: Datasets for which data loaders are created.\n",
    "      train: Sequence indicating which datasets are used for\n",
    "        training and which not. If single bool, the same value\n",
    "        is used for all datasets.\n",
    "      batch_size: Batch size to use in the data loaders.\n",
    "      num_workers: Number of workers for each dataset.\n",
    "      seed: Seed to initialize the workers and shuffling with.\n",
    "    \"\"\"\n",
    "    loaders = []\n",
    "    if not isinstance(train, (list, tuple)):\n",
    "        train = [train for _ in datasets]\n",
    "    for dataset, is_train in zip(datasets, train):\n",
    "        loader = torch.utils.data.DataLoader(dataset,\n",
    "                                 batch_size=batch_size,\n",
    "                                 shuffle=is_train,\n",
    "                                 drop_last=is_train,\n",
    "                                 collate_fn=numpy_collate,\n",
    "                                 num_workers=num_workers,\n",
    "                                 persistent_workers=is_train,\n",
    "                                 generator=torch.Generator().manual_seed(seed))\n",
    "        loaders.append(loader)\n",
    "    return loaders"
   ]
  },
  {
   "cell_type": "code",
   "execution_count": 4,
   "id": "19716d78-e90b-4388-92ee-f02420215f24",
   "metadata": {},
   "outputs": [],
   "source": [
    "train, test = mkds.download_MNIST(download=False)\n",
    "train_data = mkds.reshape_with_channel_dim(train.data.numpy())"
   ]
  },
  {
   "cell_type": "markdown",
   "id": "563a6e8e-f6ac-4189-9f69-9f44997df024",
   "metadata": {},
   "source": [
    "# 2. Creating the data for training"
   ]
  },
  {
   "cell_type": "code",
   "execution_count": 5,
   "id": "1d16d0cd-4e56-4728-82fc-2aa24156a3e0",
   "metadata": {},
   "outputs": [],
   "source": [
    "def process_perturbed_data(dataset: np.ndarray, \n",
    "                           prng: jax.random.PRNGKey):\n",
    "    \"\"\"\n",
    "    Function that perturbs the raw MNIST files (ie. train data file/test data file)\n",
    "    and saves them into a tuple of (perturbed_data, empirical_field).\n",
    "    \n",
    "    It does this by calculating the number of passes needed to go through the entire\n",
    "    dataset if we used a batchsize of 1000. The reason for the seemingly arbitrary choice\n",
    "    of 1000, is that I'm running out of memory at when my batchsize is larger than 1000.\n",
    "    \n",
    "    Args:\n",
    "    -----\n",
    "        dataset: np.ndarray\n",
    "            Either the raw MNIST training/testing dataset.\n",
    "            NOTE: Dataset here refers to the pixel data only, we discard the labels because\n",
    "                  in PFGM the NN learns the empirical field at each pixel location. One can\n",
    "                  think of the empirical field at each pixel location as that pixels \"label\".\n",
    "                  \n",
    "        prng: jax.random.PRNGKey\n",
    "            Source of randomness for generating random numbers  \n",
    "            \n",
    "    Returns:\n",
    "    --------\n",
    "        tuple of the perturbed data for each sample and the empirical field for each image\n",
    "    \"\"\"\n",
    "    # Get the number of samples in the dataset\n",
    "    num_samples = dataset.shape[0]\n",
    "    # Calculate the number of passes needed to go through the entire dataset\n",
    "    # in batches of 1000\n",
    "    num_passes = int(np.ceil(num_samples / 1000))\n",
    "    # Initialize empty list to store the output of the function\n",
    "    outputs = []\n",
    "    # Loop over the number passes needed to go through entire dataset\n",
    "    for i in range(num_passes):\n",
    "        # Calculate start and end indices for the current batch\n",
    "        start_idx = i * 1000\n",
    "        end_idx = min((i+1)*1000, num_samples)\n",
    "        # Get the current batch from the dataset\n",
    "        batch = dataset[start_idx:end_idx]\n",
    "        # Get the perturbed data & empirical field for that batch\n",
    "        output = mkds.empirical_field(batch, prng)\n",
    "        outputs.append(output)\n",
    "        del output\n",
    "    # Concatenate outputs along the first axis\n",
    "    return tuple(np.concatenate(o, axis=0) for o in zip(*outputs))"
   ]
  },
  {
   "cell_type": "code",
   "execution_count": 6,
   "id": "352067b9-af12-4607-badb-fbeef14f943a",
   "metadata": {},
   "outputs": [
    {
     "ename": "KeyboardInterrupt",
     "evalue": "",
     "output_type": "error",
     "traceback": [
      "\u001b[0;31m---------------------------------------------------------------------------\u001b[0m",
      "\u001b[0;31mKeyboardInterrupt\u001b[0m                         Traceback (most recent call last)",
      "Cell \u001b[0;32mIn[6], line 1\u001b[0m\n\u001b[0;32m----> 1\u001b[0m perturbed_data \u001b[38;5;241m=\u001b[39m \u001b[43mprocess_perturbed_data\u001b[49m\u001b[43m(\u001b[49m\u001b[43mtrain_data\u001b[49m\u001b[43m,\u001b[49m\u001b[43m \u001b[49m\u001b[43mprng\u001b[49m\u001b[38;5;241;43m=\u001b[39;49m\u001b[43mrng\u001b[49m\u001b[43m)\u001b[49m\n",
      "Cell \u001b[0;32mIn[5], line 41\u001b[0m, in \u001b[0;36mprocess_perturbed_data\u001b[0;34m(dataset, prng)\u001b[0m\n\u001b[1;32m     39\u001b[0m batch \u001b[38;5;241m=\u001b[39m dataset[start_idx:end_idx]\n\u001b[1;32m     40\u001b[0m \u001b[38;5;66;03m# Get the perturbed data & empirical field for that batch\u001b[39;00m\n\u001b[0;32m---> 41\u001b[0m output \u001b[38;5;241m=\u001b[39m \u001b[43mmkds\u001b[49m\u001b[38;5;241;43m.\u001b[39;49m\u001b[43mempirical_field\u001b[49m\u001b[43m(\u001b[49m\u001b[43mbatch\u001b[49m\u001b[43m,\u001b[49m\u001b[43m \u001b[49m\u001b[43mprng\u001b[49m\u001b[43m)\u001b[49m\n\u001b[1;32m     42\u001b[0m outputs\u001b[38;5;241m.\u001b[39mappend(output)\n\u001b[1;32m     43\u001b[0m \u001b[38;5;28;01mdel\u001b[39;00m output\n",
      "File \u001b[0;32m/pscratch/sd/m/mdowicz/PFGM_MNIST/make_dataset.py:803\u001b[0m, in \u001b[0;36mempirical_field\u001b[0;34m(batch, rng)\u001b[0m\n\u001b[1;32m    800\u001b[0m diff \u001b[38;5;241m=\u001b[39m \u001b[38;5;241m-\u001b[39m ((np\u001b[38;5;241m.\u001b[39mexpand_dims(perturbed_samples_vec, axis\u001b[38;5;241m=\u001b[39m\u001b[38;5;241m1\u001b[39m) \u001b[38;5;241m-\u001b[39m unperturbed_samples_vec))\n\u001b[1;32m    802\u001b[0m \u001b[38;5;66;03m# Calculate the empirical Poisson Field (N+1 dimension in the augmented space)\u001b[39;00m\n\u001b[0;32m--> 803\u001b[0m gt_direction \u001b[38;5;241m=\u001b[39m \u001b[43mnp\u001b[49m\u001b[38;5;241;43m.\u001b[39;49m\u001b[43msum\u001b[49m\u001b[43m(\u001b[49m\u001b[43mcoeff\u001b[49m\u001b[43m \u001b[49m\u001b[38;5;241;43m*\u001b[39;49m\u001b[43m \u001b[49m\u001b[43mdiff\u001b[49m\u001b[43m,\u001b[49m\u001b[43m \u001b[49m\u001b[43maxis\u001b[49m\u001b[38;5;241;43m=\u001b[39;49m\u001b[38;5;241;43m1\u001b[39;49m\u001b[43m,\u001b[49m\u001b[43m \u001b[49m\u001b[43mkeepdims\u001b[49m\u001b[38;5;241;43m=\u001b[39;49m\u001b[38;5;28;43;01mFalse\u001b[39;49;00m\u001b[43m)\u001b[49m\n\u001b[1;32m    804\u001b[0m gt_norm \u001b[38;5;241m=\u001b[39m np\u001b[38;5;241m.\u001b[39mlinalg\u001b[38;5;241m.\u001b[39mnorm(gt_direction, axis\u001b[38;5;241m=\u001b[39m\u001b[38;5;241m1\u001b[39m)\n\u001b[1;32m    805\u001b[0m \u001b[38;5;66;03m# Normalize \u001b[39;00m\n",
      "File \u001b[0;32m<__array_function__ internals>:180\u001b[0m, in \u001b[0;36msum\u001b[0;34m(*args, **kwargs)\u001b[0m\n",
      "File \u001b[0;32m~/.conda/envs/jax_pfgm/lib/python3.10/site-packages/numpy/core/fromnumeric.py:2183\u001b[0m, in \u001b[0;36m_sum_dispatcher\u001b[0;34m(a, axis, dtype, out, keepdims, initial, where)\u001b[0m\n\u001b[1;32m   2113\u001b[0m \u001b[38;5;250m    \u001b[39m\u001b[38;5;124;03m\"\"\"\u001b[39;00m\n\u001b[1;32m   2114\u001b[0m \u001b[38;5;124;03m    Clip (limit) the values in an array.\u001b[39;00m\n\u001b[1;32m   2115\u001b[0m \n\u001b[0;32m   (...)\u001b[0m\n\u001b[1;32m   2178\u001b[0m \n\u001b[1;32m   2179\u001b[0m \u001b[38;5;124;03m    \"\"\"\u001b[39;00m\n\u001b[1;32m   2180\u001b[0m     \u001b[38;5;28;01mreturn\u001b[39;00m _wrapfunc(a, \u001b[38;5;124m'\u001b[39m\u001b[38;5;124mclip\u001b[39m\u001b[38;5;124m'\u001b[39m, a_min, a_max, out\u001b[38;5;241m=\u001b[39mout, \u001b[38;5;241m*\u001b[39m\u001b[38;5;241m*\u001b[39mkwargs)\n\u001b[0;32m-> 2183\u001b[0m \u001b[38;5;28;01mdef\u001b[39;00m \u001b[38;5;21m_sum_dispatcher\u001b[39m(a, axis\u001b[38;5;241m=\u001b[39m\u001b[38;5;28;01mNone\u001b[39;00m, dtype\u001b[38;5;241m=\u001b[39m\u001b[38;5;28;01mNone\u001b[39;00m, out\u001b[38;5;241m=\u001b[39m\u001b[38;5;28;01mNone\u001b[39;00m, keepdims\u001b[38;5;241m=\u001b[39m\u001b[38;5;28;01mNone\u001b[39;00m,\n\u001b[1;32m   2184\u001b[0m                     initial\u001b[38;5;241m=\u001b[39m\u001b[38;5;28;01mNone\u001b[39;00m, where\u001b[38;5;241m=\u001b[39m\u001b[38;5;28;01mNone\u001b[39;00m):\n\u001b[1;32m   2185\u001b[0m     \u001b[38;5;28;01mreturn\u001b[39;00m (a, out)\n\u001b[1;32m   2188\u001b[0m \u001b[38;5;129m@array_function_dispatch\u001b[39m(_sum_dispatcher)\n\u001b[1;32m   2189\u001b[0m \u001b[38;5;28;01mdef\u001b[39;00m \u001b[38;5;21msum\u001b[39m(a, axis\u001b[38;5;241m=\u001b[39m\u001b[38;5;28;01mNone\u001b[39;00m, dtype\u001b[38;5;241m=\u001b[39m\u001b[38;5;28;01mNone\u001b[39;00m, out\u001b[38;5;241m=\u001b[39m\u001b[38;5;28;01mNone\u001b[39;00m, keepdims\u001b[38;5;241m=\u001b[39mnp\u001b[38;5;241m.\u001b[39m_NoValue,\n\u001b[1;32m   2190\u001b[0m         initial\u001b[38;5;241m=\u001b[39mnp\u001b[38;5;241m.\u001b[39m_NoValue, where\u001b[38;5;241m=\u001b[39mnp\u001b[38;5;241m.\u001b[39m_NoValue):\n",
      "\u001b[0;31mKeyboardInterrupt\u001b[0m: "
     ]
    }
   ],
   "source": [
    "perturbed_data = process_perturbed_data(train_data, prng=rng)"
   ]
  },
  {
   "cell_type": "code",
   "execution_count": 9,
   "id": "5ae43ad5-6a9d-45d7-b638-ed2f093f90bf",
   "metadata": {},
   "outputs": [],
   "source": [
    "def partition_MNIST(root_dir: str = 'saved_data/MNIST/perturbed/partitioned/',\n",
    "                    perturb_on: bool = True,\n",
    "                    sigma: float = 0.2, \n",
    "                    tau: float = 0.06, \n",
    "                    M: int = 291,\n",
    "                    download: bool = True,\n",
    "                    validation_frac: float = 1/6):\n",
    "    \"\"\"\n",
    "    Function to partition the raw/perturbed training/test data into training, validation, and test\n",
    "    datasets. The split will be 50k, 10k, and 10k, where the validation set will be a random\n",
    "    sampling without replacement from the raw training set.\n",
    "    \n",
    "    Args:\n",
    "    ------\n",
    "        root_dir: str\n",
    "            Path to where the partitioned data should saved to.\n",
    "        perturb_on: bool\n",
    "            If True, partition the perturbed data consisting of the perturbed data & the empirical\n",
    "            field. Else, partition the raw unperturbed MNIST data.\n",
    "        download: bool\n",
    "             If True, download the partition dataset to the root_dir. Else, simply return the partitioned\n",
    "             dataset.\n",
    "     \n",
    "     Returns:\n",
    "     --------\n",
    "         training_set: np.ndarray\n",
    "             The 50k perturbed samples that will be used for training the NN.\n",
    "         val_set: np.ndarray\n",
    "             The 10K perturbed samples that will be used for validating the NN. These 10k samples came\n",
    "             from the raw MNIST training set. \n",
    "         test_set: np.ndarray\n",
    "             The 10k samples that will be used to test the NN. This is the perturbed version of the raw \n",
    "             MNIST test set.\n",
    "    \"\"\"\n",
    "    # Instantiate the MNIST data\n",
    "    train, test = mkds.download_MNIST(download=False)\n",
    "    \n",
    "    # Give a channel dimension to the data\n",
    "    train_data = mkds.reshape_with_channel_dim(train.data.numpy())\n",
    "    test_data = mkds.reshape_with_channel_dim(test.data.numpy())\n",
    "    \n",
    "    # Perturb the data\n",
    "    perturbed_train = process_perturbed_data(train_data, prng=rng)\n",
    "    perturbed_test = process_perturbed_data(test_data, prng=rng)\n",
    "    \n",
    "    # Define the fraction of data to use for validation\n",
    "    validation_frac = validation_frac\n",
    "\n",
    "    # Get the number of samples in the training set\n",
    "    num_samples = perturbed_train[0].shape[0]\n",
    "\n",
    "    # Generate a random permutatioon of the sample indices\n",
    "    permutation = np.random.permutation(num_samples)\n",
    "\n",
    "    # Calculate the number of samples to use for validation\n",
    "    num_validation_samples = int(num_samples * validation_frac)\n",
    "\n",
    "    # Split the permutation into training and validation indices\n",
    "    validation_indices = permutation[:num_validation_samples]\n",
    "    training_indices = permutation[num_validation_samples:]\n",
    "\n",
    "    # Split the training set into training and validation sets\n",
    "    X_train_new = perturbed_train[0][training_indices]\n",
    "    y_train_new = perturbed_train[1][training_indices]\n",
    "    train_new = (X_train_new, y_train_new)\n",
    "\n",
    "    X_val = perturbed_train[0][validation_indices]\n",
    "    y_val = perturbed_train[1][validation_indices]\n",
    "    val = (X_val, y_val)\n",
    "    \n",
    "    if download:\n",
    "        # Save the data\n",
    "        mkds.save_data(train_new, \n",
    "                   directory=root_dir,\n",
    "                   filename='perturbed_training_set.pkl')\n",
    "\n",
    "        mkds.save_data(val, \n",
    "                   directory=root_dir,\n",
    "                   filename='perturbed_val_set.pkl')\n",
    "\n",
    "        mkds.save_data(perturbed_test, \n",
    "                   directory=root_dir,\n",
    "                   filename='perturbed_test_set.pkl')\n",
    "    \n",
    "    return train_new, val, test"
   ]
  },
  {
   "cell_type": "code",
   "execution_count": 10,
   "id": "1ea9948b-9413-4fd5-9ac3-e781affef2b6",
   "metadata": {},
   "outputs": [],
   "source": [
    "train, val, test = partition_MNIST(download=True)"
   ]
  },
  {
   "cell_type": "code",
   "execution_count": 26,
   "id": "998bf411-c709-4921-9417-a89c20c59152",
   "metadata": {},
   "outputs": [],
   "source": [
    "def train_and_evaluate(batchsize, state, epochs, ckpt_dir, prng):    \n",
    "\n",
    "    # Load the partitioned datasets\n",
    "    training = mkds.load_data(data_dir='saved_data/MNIST/perturbed/partitioned',\n",
    "                                         data_file='perturbed_training_set.pkl')\n",
    "\n",
    "    val = mkds.load_data(data_dir='saved_data/MNIST/perturbed/partitioned',\n",
    "                                         data_file='perturbed_val_set.pkl')\n",
    "\n",
    "    test = mkds.load_data(data_dir='saved_data/MNIST/perturbed/partitioned',\n",
    "                                         data_file='perturbed_test_set.pkl')\n",
    "\n",
    "    # Put them into Pytorch Dataset Objects\n",
    "    training = MNIST_DS(training[0], training[1])\n",
    "    val = MNIST_DS(val[0], val[1])\n",
    "    testing = MNIST_DS(test[0], test[1])\n",
    "    \n",
    "    # Instantiate the pytorch data loaders\n",
    "    train_dl, val_dl, test_dl = create_data_loaders(training, val, testing,\n",
    "                                                    train=[True, False, False],\n",
    "                                                    batch_size=batchsize)\n",
    "\n",
    "    for epoch in tqdm(range(1, epochs+1)):\n",
    "        best_val_loss = 1e6\n",
    "\n",
    "        # =========== Training =========== #\n",
    "        train_batch_metrics = []\n",
    "        for cnt, batch in enumerate(train_dl):\n",
    "            # Instantiate the perturbed data\n",
    "            data, targets = batch\n",
    "            # data = mkds.reshape_with_channel_dim(data)\n",
    "            # perturbed_batch = mkds.empirical_field(data, prng)\n",
    "            # Do one train step with perturbed data\n",
    "            state, metrics = train_step(state, batch)\n",
    "            train_batch_metrics.append(metrics)\n",
    "        train_batch_metrics = accumulate_metrics(train_batch_metrics)\n",
    "        print(\n",
    "            'TRAIN (%d/%d): Loss: %.4f, r2: %.2f' % (\n",
    "                epoch, epochs, train_batch_metrics['loss'], \n",
    "                train_batch_metrics['r2'])\n",
    "        )\n",
    "                \n",
    "        # =========== Validation =========== #\n",
    "        val_batch_metrics = []\n",
    "        for cnt, batch in enumerate(val_dl):\n",
    "            # Instantiate the imgs\n",
    "            data, targets = batch\n",
    "            # data = mkds.reshape_with_channel_dim(data)\n",
    "            # # Perturb the data\n",
    "            # perturbed_batch = mkds.empirical_field(data, prng)\n",
    "            metrics = eval_step(state, batch)\n",
    "            val_batch_metrics.append(metrics)\n",
    "        val_batch_metrics = accumulate_metrics(val_batch_metrics)\n",
    "        print(\n",
    "            'Val (%d/%d): Loss: %.4f, r2: %.2f' % (\n",
    "                epoch, epochs, val_batch_metrics['loss'], \n",
    "                val_batch_metrics['r2'])\n",
    "        )\n",
    "        print()\n",
    "        \n",
    "        wandb.log({\n",
    "            \"Train Loss\": train_batch_metrics['loss'],\n",
    "            \"Train r2\": train_batch_metrics['r2'],\n",
    "            \"Validation Loss\": val_batch_metrics['loss'],\n",
    "            \"Validation r2\": val_batch_metrics['r2']\n",
    "        }, step=epoch)\n",
    "        \n",
    "        if val_batch_metrics['loss'] < best_val_loss:\n",
    "            save_checkpoint_wandb(\"checkpoint.msgpack\", state, epoch)\n",
    "            \n",
    "    restored_state = load_checkpoint_wandb(\"checkpoint.msgpack\", state)\n",
    "    test_batch_metrics = []\n",
    "    for cnt, batch in enumerate(test_dl):\n",
    "            # Instantiate the imgs\n",
    "            data, targets = batch\n",
    "            # data = mkds.reshape_with_channel_dim(data)\n",
    "            # # Perturb the data\n",
    "            # perturbed_batch = mkds.empirical_field(data, prng)\n",
    "            metrics = eval_step(state, batch)\n",
    "            test_batch_metrics.append(metrics)\n",
    "        \n",
    "    test_batch_metrics = accumulate_metrics(test_batch_metrics)\n",
    "    print(\n",
    "        'Test: Loss: %.4f, r2: %.2f' % (\n",
    "            test_batch_metrics['loss'],\n",
    "            test_batch_metrics['r2']\n",
    "        )\n",
    "    )\n",
    "    \n",
    "    wandb.log({\n",
    "        \"Test Loss\": test_batch_metrics['loss'],\n",
    "        \"Test r2\": test_batch_metrics['r2']\n",
    "    })\n",
    "\n",
    "    # Save best state\n",
    "    checkpoints.save_checkpoint(ckpt_dir, target=restored_state, step=None)\n",
    "    return state, restored_state\n"
   ]
  },
  {
   "cell_type": "code",
   "execution_count": 30,
   "id": "b71a2de5-d102-40bc-ae98-55e4d4e0f0f5",
   "metadata": {},
   "outputs": [
    {
     "data": {
      "text/html": [
       "Finishing last run (ID:ng19fppa) before initializing another..."
      ],
      "text/plain": [
       "<IPython.core.display.HTML object>"
      ]
     },
     "metadata": {},
     "output_type": "display_data"
    },
    {
     "data": {
      "text/html": [
       "Waiting for W&B process to finish... <strong style=\"color:green\">(success).</strong>"
      ],
      "text/plain": [
       "<IPython.core.display.HTML object>"
      ]
     },
     "metadata": {},
     "output_type": "display_data"
    },
    {
     "data": {
      "text/html": [
       "<style>\n",
       "    table.wandb td:nth-child(1) { padding: 0 10px; text-align: left ; width: auto;} td:nth-child(2) {text-align: left ; width: 100%}\n",
       "    .wandb-row { display: flex; flex-direction: row; flex-wrap: wrap; justify-content: flex-start; width: 100% }\n",
       "    .wandb-col { display: flex; flex-direction: column; flex-basis: 100%; flex: 1; padding: 10px; }\n",
       "    </style>\n",
       "<div class=\"wandb-row\"><div class=\"wandb-col\"><h3>Run history:</h3><br/><table class=\"wandb\"><tr><td>Train Loss</td><td>█▁▁▁▁▁▁▁▁▁▁▁</td></tr><tr><td>Train r2</td><td>▁███████████</td></tr><tr><td>Validation Loss</td><td>█▃▂▂▁▁▁▁▁▁▁▁</td></tr><tr><td>Validation r2</td><td>▁▆▇▇████████</td></tr></table><br/></div><div class=\"wandb-col\"><h3>Run summary:</h3><br/><table class=\"wandb\"><tr><td>Train Loss</td><td>1.00029</td></tr><tr><td>Train r2</td><td>-0.00158</td></tr><tr><td>Validation Loss</td><td>1.10108</td></tr><tr><td>Validation r2</td><td>-0.10249</td></tr></table><br/></div></div>"
      ],
      "text/plain": [
       "<IPython.core.display.HTML object>"
      ]
     },
     "metadata": {},
     "output_type": "display_data"
    },
    {
     "data": {
      "text/html": [
       " View run <strong style=\"color:#cdcd00\">worldly-planet-108</strong> at: <a href='https://wandb.ai/mdowicz/MLP_PFGM/runs/ng19fppa' target=\"_blank\">https://wandb.ai/mdowicz/MLP_PFGM/runs/ng19fppa</a><br/>Synced 5 W&B file(s), 0 media file(s), 12 artifact file(s) and 0 other file(s)"
      ],
      "text/plain": [
       "<IPython.core.display.HTML object>"
      ]
     },
     "metadata": {},
     "output_type": "display_data"
    },
    {
     "data": {
      "text/html": [
       "Find logs at: <code>./wandb/run-20230327_195911-ng19fppa/logs</code>"
      ],
      "text/plain": [
       "<IPython.core.display.HTML object>"
      ]
     },
     "metadata": {},
     "output_type": "display_data"
    },
    {
     "data": {
      "text/html": [
       "Successfully finished last run (ID:ng19fppa). Initializing new run:<br/>"
      ],
      "text/plain": [
       "<IPython.core.display.HTML object>"
      ]
     },
     "metadata": {},
     "output_type": "display_data"
    },
    {
     "data": {
      "application/vnd.jupyter.widget-view+json": {
       "model_id": "abcf29735b3c4a0baa5d7c22c9d12083",
       "version_major": 2,
       "version_minor": 0
      },
      "text/plain": [
       "VBox(children=(Label(value='Waiting for wandb.init()...\\r'), FloatProgress(value=0.01666924135060981, max=1.0)…"
      ]
     },
     "metadata": {},
     "output_type": "display_data"
    },
    {
     "data": {
      "text/html": [
       "wandb version 0.14.0 is available!  To upgrade, please run:\n",
       " $ pip install wandb --upgrade"
      ],
      "text/plain": [
       "<IPython.core.display.HTML object>"
      ]
     },
     "metadata": {},
     "output_type": "display_data"
    },
    {
     "data": {
      "text/html": [
       "Tracking run with wandb version 0.13.10"
      ],
      "text/plain": [
       "<IPython.core.display.HTML object>"
      ]
     },
     "metadata": {},
     "output_type": "display_data"
    },
    {
     "data": {
      "text/html": [
       "Run data is saved locally in <code>/pscratch/sd/m/mdowicz/PFGM_MNIST/wandb/run-20230327_200045-pvqneltw</code>"
      ],
      "text/plain": [
       "<IPython.core.display.HTML object>"
      ]
     },
     "metadata": {},
     "output_type": "display_data"
    },
    {
     "data": {
      "text/html": [
       "Syncing run <strong><a href='https://wandb.ai/mdowicz/MLP_PFGM/runs/pvqneltw' target=\"_blank\">misty-glitter-109</a></strong> to <a href='https://wandb.ai/mdowicz/MLP_PFGM' target=\"_blank\">Weights & Biases</a> (<a href='https://wandb.me/run' target=\"_blank\">docs</a>)<br/>"
      ],
      "text/plain": [
       "<IPython.core.display.HTML object>"
      ]
     },
     "metadata": {},
     "output_type": "display_data"
    },
    {
     "data": {
      "text/html": [
       " View project at <a href='https://wandb.ai/mdowicz/MLP_PFGM' target=\"_blank\">https://wandb.ai/mdowicz/MLP_PFGM</a>"
      ],
      "text/plain": [
       "<IPython.core.display.HTML object>"
      ]
     },
     "metadata": {},
     "output_type": "display_data"
    },
    {
     "data": {
      "text/html": [
       " View run at <a href='https://wandb.ai/mdowicz/MLP_PFGM/runs/pvqneltw' target=\"_blank\">https://wandb.ai/mdowicz/MLP_PFGM/runs/pvqneltw</a>"
      ],
      "text/plain": [
       "<IPython.core.display.HTML object>"
      ]
     },
     "metadata": {},
     "output_type": "display_data"
    },
    {
     "name": "stdout",
     "output_type": "stream",
     "text": [
      "\n",
      "\u001b[3m                                  MLP Summary                                   \u001b[0m\n",
      "┏━━━━━━━━━┳━━━━━━━━┳━━━━━━━━━━━━━━━━━┳━━━━━━━━━━━━━━━━━┳━━━━━━━━━━━━━━━━━━━━━━━┓\n",
      "┃\u001b[1m \u001b[0m\u001b[1mpath   \u001b[0m\u001b[1m \u001b[0m┃\u001b[1m \u001b[0m\u001b[1mmodule\u001b[0m\u001b[1m \u001b[0m┃\u001b[1m \u001b[0m\u001b[1minputs         \u001b[0m\u001b[1m \u001b[0m┃\u001b[1m \u001b[0m\u001b[1moutputs        \u001b[0m\u001b[1m \u001b[0m┃\u001b[1m \u001b[0m\u001b[1mparams               \u001b[0m\u001b[1m \u001b[0m┃\n",
      "┡━━━━━━━━━╇━━━━━━━━╇━━━━━━━━━━━━━━━━━╇━━━━━━━━━━━━━━━━━╇━━━━━━━━━━━━━━━━━━━━━━━┩\n",
      "│         │ MLP    │ \u001b[2mfloat32\u001b[0m[1,785]  │ \u001b[2mfloat32\u001b[0m[1,785]  │                       │\n",
      "├─────────┼────────┼─────────────────┼─────────────────┼───────────────────────┤\n",
      "│ Dense_0 │ Dense  │ \u001b[2mfloat32\u001b[0m[1,785]  │ \u001b[2mfloat32\u001b[0m[1,1570] │ bias: \u001b[2mfloat32\u001b[0m[1570]   │\n",
      "│         │        │                 │                 │ kernel:               │\n",
      "│         │        │                 │                 │ \u001b[2mfloat32\u001b[0m[785,1570]     │\n",
      "│         │        │                 │                 │                       │\n",
      "│         │        │                 │                 │ \u001b[1m1,234,020 \u001b[0m\u001b[1;2m(4.9 MB)\u001b[0m    │\n",
      "├─────────┼────────┼─────────────────┼─────────────────┼───────────────────────┤\n",
      "│ Dense_1 │ Dense  │ \u001b[2mfloat32\u001b[0m[1,1570] │ \u001b[2mfloat32\u001b[0m[1,785]  │ bias: \u001b[2mfloat32\u001b[0m[785]    │\n",
      "│         │        │                 │                 │ kernel:               │\n",
      "│         │        │                 │                 │ \u001b[2mfloat32\u001b[0m[1570,785]     │\n",
      "│         │        │                 │                 │                       │\n",
      "│         │        │                 │                 │ \u001b[1m1,233,235 \u001b[0m\u001b[1;2m(4.9 MB)\u001b[0m    │\n",
      "├─────────┼────────┼─────────────────┼─────────────────┼───────────────────────┤\n",
      "│\u001b[1m \u001b[0m\u001b[1m       \u001b[0m\u001b[1m \u001b[0m│\u001b[1m \u001b[0m\u001b[1m      \u001b[0m\u001b[1m \u001b[0m│\u001b[1m \u001b[0m\u001b[1m               \u001b[0m\u001b[1m \u001b[0m│\u001b[1m \u001b[0m\u001b[1m          Total\u001b[0m\u001b[1m \u001b[0m│\u001b[1m \u001b[0m\u001b[1m2,467,255 \u001b[0m\u001b[1;2m(9.9 MB)\u001b[0m\u001b[1m   \u001b[0m\u001b[1m \u001b[0m│\n",
      "└─────────┴────────┴─────────────────┴─────────────────┴───────────────────────┘\n",
      "\u001b[1m                                                                                \u001b[0m\n",
      "\u001b[1m                      Total Parameters: 2,467,255 \u001b[0m\u001b[1;2m(9.9 MB)\u001b[0m\u001b[1m                      \u001b[0m\n",
      "\n",
      "\n"
     ]
    }
   ],
   "source": [
    "wandb.init(project='MLP_PFGM')\n",
    "\n",
    "config = wandb.config\n",
    "config.jax_seed = 42\n",
    "config.batch_size = 128\n",
    "config.learning_rate = 3e-4\n",
    "config.epochs = 50\n",
    "config.hidden_dims = [1570]\n",
    "config.output_dim = 785\n",
    "\n",
    "# Instantiate the model with random weights\n",
    "mlp = MLP(hidden_dims=config.hidden_dims,\n",
    "          output_dim=config.output_dim)\n",
    "\n",
    "print(mlp.tabulate(jax.random.PRNGKey(config.jax_seed), jnp.ones((1, 785))))"
   ]
  },
  {
   "cell_type": "code",
   "execution_count": null,
   "id": "5947a6d4-ea4d-4233-8bf7-bc720ffa49a6",
   "metadata": {},
   "outputs": [
    {
     "data": {
      "application/vnd.jupyter.widget-view+json": {
       "model_id": "12bdb58ce7da430292e726eeba4bed46",
       "version_major": 2,
       "version_minor": 0
      },
      "text/plain": [
       "  0%|          | 0/50 [00:00<?, ?it/s]"
      ]
     },
     "metadata": {},
     "output_type": "display_data"
    },
    {
     "name": "stdout",
     "output_type": "stream",
     "text": [
      "TRAIN (1/50): Loss: 77.9180, r2: -77.02\n",
      "Val (1/50): Loss: 2.6915, r2: -1.69\n",
      "TRAIN (2/50): Loss: 1.8761, r2: -0.88\n",
      "Val (2/50): Loss: 1.5999, r2: -0.60\n",
      "TRAIN (3/50): Loss: 1.2906, r2: -0.29\n",
      "Val (3/50): Loss: 1.3478, r2: -0.35\n",
      "TRAIN (4/50): Loss: 1.1270, r2: -0.13\n",
      "Val (4/50): Loss: 1.2467, r2: -0.25\n",
      "TRAIN (5/50): Loss: 1.0636, r2: -0.06\n",
      "Val (5/50): Loss: 1.1950, r2: -0.20\n",
      "TRAIN (6/50): Loss: 1.0350, r2: -0.04\n",
      "Val (6/50): Loss: 1.1642, r2: -0.17\n",
      "TRAIN (7/50): Loss: 1.0202, r2: -0.02\n",
      "Val (7/50): Loss: 1.1439, r2: -0.15\n",
      "TRAIN (8/50): Loss: 1.0118, r2: -0.01\n",
      "Val (8/50): Loss: 1.1298, r2: -0.13\n",
      "TRAIN (9/50): Loss: 1.0069, r2: -0.01\n",
      "Val (9/50): Loss: 1.1194, r2: -0.12\n",
      "TRAIN (10/50): Loss: 1.0037, r2: -0.00\n",
      "Val (10/50): Loss: 1.1116, r2: -0.11\n",
      "TRAIN (11/50): Loss: 1.0016, r2: -0.00\n",
      "Val (11/50): Loss: 1.1057, r2: -0.11\n",
      "TRAIN (12/50): Loss: 1.0003, r2: -0.00\n",
      "Val (12/50): Loss: 1.1011, r2: -0.10\n",
      "TRAIN (13/50): Loss: 0.9994, r2: -0.00\n",
      "Val (13/50): Loss: 1.0975, r2: -0.10\n",
      "TRAIN (14/50): Loss: 0.9988, r2: -0.00\n",
      "Val (14/50): Loss: 1.0948, r2: -0.10\n",
      "TRAIN (15/50): Loss: 0.9984, r2: 0.00\n",
      "Val (15/50): Loss: 1.0926, r2: -0.09\n",
      "TRAIN (16/50): Loss: 0.9982, r2: 0.00\n",
      "Val (16/50): Loss: 1.0909, r2: -0.09\n",
      "TRAIN (17/50): Loss: 0.9980, r2: 0.00\n",
      "Val (17/50): Loss: 1.0896, r2: -0.09\n",
      "TRAIN (18/50): Loss: 0.9980, r2: 0.00\n",
      "Val (18/50): Loss: 1.0884, r2: -0.09\n",
      "TRAIN (19/50): Loss: 0.9979, r2: 0.00\n",
      "Val (19/50): Loss: 1.0876, r2: -0.09\n",
      "TRAIN (20/50): Loss: 0.9979, r2: 0.00\n",
      "Val (20/50): Loss: 1.0865, r2: -0.09\n",
      "TRAIN (21/50): Loss: 0.9979, r2: 0.00\n",
      "Val (21/50): Loss: 1.0857, r2: -0.09\n",
      "TRAIN (22/50): Loss: 0.9979, r2: 0.00\n",
      "Val (22/50): Loss: 1.0846, r2: -0.09\n",
      "TRAIN (23/50): Loss: 0.9979, r2: 0.00\n",
      "Val (23/50): Loss: 1.0840, r2: -0.09\n",
      "TRAIN (24/50): Loss: 0.9979, r2: 0.00\n",
      "Val (24/50): Loss: 1.0825, r2: -0.08\n",
      "TRAIN (25/50): Loss: 0.9980, r2: 0.00\n",
      "Val (25/50): Loss: 1.0812, r2: -0.08\n",
      "TRAIN (26/50): Loss: 0.9979, r2: 0.00\n",
      "Val (26/50): Loss: 1.0802, r2: -0.08\n",
      "TRAIN (27/50): Loss: 0.9980, r2: 0.00\n",
      "Val (27/50): Loss: 1.0784, r2: -0.08\n",
      "TRAIN (28/50): Loss: 0.9979, r2: 0.00\n",
      "Val (28/50): Loss: 1.0769, r2: -0.08\n",
      "TRAIN (29/50): Loss: 0.9979, r2: 0.00\n",
      "Val (29/50): Loss: 1.0750, r2: -0.08\n",
      "TRAIN (30/50): Loss: 0.9980, r2: 0.00\n",
      "Val (30/50): Loss: 1.0742, r2: -0.08\n",
      "TRAIN (31/50): Loss: 0.9981, r2: 0.00\n",
      "Val (31/50): Loss: 1.0733, r2: -0.07\n",
      "TRAIN (32/50): Loss: 0.9981, r2: 0.00\n",
      "Val (32/50): Loss: 1.0720, r2: -0.07\n",
      "TRAIN (33/50): Loss: 0.9980, r2: 0.00\n",
      "Val (33/50): Loss: 1.0709, r2: -0.07\n",
      "TRAIN (34/50): Loss: 0.9979, r2: 0.00\n",
      "Val (34/50): Loss: 1.0707, r2: -0.07\n",
      "TRAIN (35/50): Loss: 0.9979, r2: 0.00\n",
      "Val (35/50): Loss: 1.0702, r2: -0.07\n",
      "TRAIN (36/50): Loss: 0.9979, r2: 0.00\n",
      "Val (36/50): Loss: 1.0702, r2: -0.07\n",
      "TRAIN (37/50): Loss: 0.9979, r2: 0.00\n",
      "Val (37/50): Loss: 1.0699, r2: -0.07\n",
      "TRAIN (38/50): Loss: 0.9980, r2: 0.00\n",
      "Val (38/50): Loss: 1.0698, r2: -0.07\n",
      "TRAIN (39/50): Loss: 0.9979, r2: 0.00\n",
      "Val (39/50): Loss: 1.0697, r2: -0.07\n",
      "TRAIN (40/50): Loss: 0.9979, r2: 0.00\n",
      "Val (40/50): Loss: 1.0697, r2: -0.07\n",
      "TRAIN (41/50): Loss: 0.9979, r2: 0.00\n",
      "Val (41/50): Loss: 1.0697, r2: -0.07\n",
      "TRAIN (42/50): Loss: 0.9979, r2: 0.00\n",
      "Val (42/50): Loss: 1.0697, r2: -0.07\n",
      "TRAIN (43/50): Loss: 0.9979, r2: 0.00\n",
      "Val (43/50): Loss: 1.0697, r2: -0.07\n",
      "TRAIN (44/50): Loss: 0.9979, r2: 0.00\n",
      "Val (44/50): Loss: 1.0697, r2: -0.07\n",
      "TRAIN (45/50): Loss: 0.9979, r2: 0.00\n",
      "Val (45/50): Loss: 1.0697, r2: -0.07\n",
      "TRAIN (46/50): Loss: 0.9979, r2: 0.00\n",
      "Val (46/50): Loss: 1.0697, r2: -0.07\n",
      "TRAIN (47/50): Loss: 0.9979, r2: 0.00\n",
      "Val (47/50): Loss: 1.0697, r2: -0.07\n",
      "TRAIN (48/50): Loss: 0.9979, r2: 0.00\n",
      "Val (48/50): Loss: 1.0697, r2: -0.07\n"
     ]
    }
   ],
   "source": [
    "# Instantiate the initial train_state object\n",
    "state = init_train_state(model=mlp, \n",
    "                         random_key=jax.random.PRNGKey(config.jax_seed), \n",
    "                         shape=(1, 785), \n",
    "                         learning_rate=config.learning_rate)\n",
    "\n",
    "prng = jax.random.PRNGKey(21)\n",
    "state, best_state = train_and_evaluate(config.batch_size, \n",
    "                                       state, \n",
    "                                       config.epochs, \n",
    "                                       ckpt_dir='saved_models/',\n",
    "                                       prng=default_rng(seed=np.asarray(prng)))\n"
   ]
  },
  {
   "cell_type": "code",
   "execution_count": 29,
   "id": "fa7cf526-b817-452c-8654-22f6d3d533e5",
   "metadata": {},
   "outputs": [],
   "source": [
    "restored_state = checkpoints.restore_checkpoint(ckpt_dir='saved_models/', target=state)"
   ]
  },
  {
   "cell_type": "code",
   "execution_count": null,
   "id": "17bf5ea6-5fdd-4523-b918-75e69fcff081",
   "metadata": {},
   "outputs": [],
   "source": [
    " "
   ]
  }
 ],
 "metadata": {
  "kernelspec": {
   "display_name": "jax_pfgm",
   "language": "python",
   "name": "jax_pfgm"
  },
  "language_info": {
   "codemirror_mode": {
    "name": "ipython",
    "version": 3
   },
   "file_extension": ".py",
   "mimetype": "text/x-python",
   "name": "python",
   "nbconvert_exporter": "python",
   "pygments_lexer": "ipython3",
   "version": "3.10.6"
  }
 },
 "nbformat": 4,
 "nbformat_minor": 5
}
